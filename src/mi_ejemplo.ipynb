{
 "cells": [
  {
   "cell_type": "code",
   "execution_count": 2,
   "metadata": {},
   "outputs": [],
   "source": [
    "using CSV\n",
    "using DataFrames\n",
    "using Random\n",
    "using MLJ\n",
    "using DecisionTree\n",
    "using PyPlot\n",
    "using Statistics"
   ]
  },
  {
   "cell_type": "markdown",
   "metadata": {},
   "source": [
    "Cargamos los datos de viviendas usadas"
   ]
  },
  {
   "cell_type": "code",
   "execution_count": 7,
   "metadata": {},
   "outputs": [
    {
     "data": {
      "text/html": [
       "<div><div style = \"float: left;\"><span>2521×21 DataFrame</span></div><div style = \"float: right;\"><span style = \"font-style: italic;\">2496 rows omitted</span></div><div style = \"clear: both;\"></div></div><div class = \"data-frame\" style = \"overflow-x: scroll;\"><table class = \"data-frame\" style = \"margin-bottom: 6px;\"><thead><tr class = \"header\"><th class = \"rowNumber\" style = \"font-weight: bold; text-align: right;\">Row</th><th style = \"text-align: left;\">Column1</th><th style = \"text-align: left;\">X</th><th style = \"text-align: left;\">Precio</th><th style = \"text-align: left;\">Superficie_Terreno</th><th style = \"text-align: left;\">Superficie_Habitacional</th><th style = \"text-align: left;\">Agno_Construccion</th><th style = \"text-align: left;\">Antiguedad_Promedio</th><th style = \"text-align: left;\">Avaluo_Fiscal</th><th style = \"text-align: left;\">Avaluo_Fiscal_Unitario</th><th style = \"text-align: left;\">Barrio</th><th style = \"text-align: left;\">Calidad_Habitacional</th><th style = \"text-align: left;\">IPV_General</th><th style = \"text-align: left;\">Latitud</th><th style = \"text-align: left;\">Longitud</th><th style = \"text-align: left;\">Tipo_Comprador_Simple</th><th style = \"text-align: left;\">Tipo_Vendedor_Simple</th><th style = \"text-align: left;\">Trimestre</th><th style = \"text-align: left;\">Valor_Unitario_Terreno</th><th style = \"text-align: left;\">Valor_Unitario_Construccion_Habitacional_Promedio</th><th style = \"text-align: left;\">Fecha_Transaccion</th><th style = \"text-align: left;\">Precio_Unitario</th></tr><tr class = \"subheader headerLastRow\"><th class = \"rowNumber\" style = \"font-weight: bold; text-align: right;\"></th><th title = \"Int64\" style = \"text-align: left;\">Int64</th><th title = \"Int64\" style = \"text-align: left;\">Int64</th><th title = \"Int64\" style = \"text-align: left;\">Int64</th><th title = \"Int64\" style = \"text-align: left;\">Int64</th><th title = \"Int64\" style = \"text-align: left;\">Int64</th><th title = \"Int64\" style = \"text-align: left;\">Int64</th><th title = \"Float64\" style = \"text-align: left;\">Float64</th><th title = \"Float64\" style = \"text-align: left;\">Float64</th><th title = \"Float64\" style = \"text-align: left;\">Float64</th><th title = \"String31\" style = \"text-align: left;\">String31</th><th title = \"Float64\" style = \"text-align: left;\">Float64</th><th title = \"Float64\" style = \"text-align: left;\">Float64</th><th title = \"Float64\" style = \"text-align: left;\">Float64</th><th title = \"Float64\" style = \"text-align: left;\">Float64</th><th title = \"String7\" style = \"text-align: left;\">String7</th><th title = \"String7\" style = \"text-align: left;\">String7</th><th title = \"String3\" style = \"text-align: left;\">String3</th><th title = \"Float64\" style = \"text-align: left;\">Float64</th><th title = \"Float64\" style = \"text-align: left;\">Float64</th><th title = \"Dates.Date\" style = \"text-align: left;\">Date</th><th title = \"Float64\" style = \"text-align: left;\">Float64</th></tr></thead><tbody><tr><td class = \"rowNumber\" style = \"font-weight: bold; text-align: right;\">1</td><td style = \"text-align: right;\">1</td><td style = \"text-align: right;\">1</td><td style = \"text-align: right;\">8400</td><td style = \"text-align: right;\">180</td><td style = \"text-align: right;\">88</td><td style = \"text-align: right;\">1953</td><td style = \"text-align: right;\">67.0</td><td style = \"text-align: right;\">4733.21</td><td style = \"text-align: right;\">26.2956</td><td style = \"text-align: left;\">parque_bicentenario</td><td style = \"text-align: right;\">3.0</td><td style = \"text-align: right;\">206.73</td><td style = \"text-align: right;\">-33.4044</td><td style = \"text-align: right;\">-70.5955</td><td style = \"text-align: left;\">Persona</td><td style = \"text-align: left;\">Persona</td><td style = \"text-align: left;\">T4</td><td style = \"text-align: right;\">18.8677</td><td style = \"text-align: right;\">15.1877</td><td style = \"text-align: left;\">2020-12-16</td><td style = \"text-align: right;\">46.6667</td></tr><tr><td class = \"rowNumber\" style = \"font-weight: bold; text-align: right;\">2</td><td style = \"text-align: right;\">2</td><td style = \"text-align: right;\">2</td><td style = \"text-align: right;\">27300</td><td style = \"text-align: right;\">300</td><td style = \"text-align: right;\">114</td><td style = \"text-align: right;\">1953</td><td style = \"text-align: right;\">68.0</td><td style = \"text-align: right;\">7625.95</td><td style = \"text-align: right;\">25.4198</td><td style = \"text-align: left;\">parque_bicentenario</td><td style = \"text-align: right;\">3.0</td><td style = \"text-align: right;\">219.441</td><td style = \"text-align: right;\">-33.4031</td><td style = \"text-align: right;\">-70.5942</td><td style = \"text-align: left;\">Empresa</td><td style = \"text-align: left;\">Persona</td><td style = \"text-align: left;\">T3</td><td style = \"text-align: right;\">18.8677</td><td style = \"text-align: right;\">15.1877</td><td style = \"text-align: left;\">2021-09-08</td><td style = \"text-align: right;\">91.0</td></tr><tr><td class = \"rowNumber\" style = \"font-weight: bold; text-align: right;\">3</td><td style = \"text-align: right;\">3</td><td style = \"text-align: right;\">3</td><td style = \"text-align: right;\">14800</td><td style = \"text-align: right;\">230</td><td style = \"text-align: right;\">135</td><td style = \"text-align: right;\">1957</td><td style = \"text-align: right;\">52.3333</td><td style = \"text-align: right;\">6475.01</td><td style = \"text-align: right;\">28.1522</td><td style = \"text-align: left;\">parque_bicentenario</td><td style = \"text-align: right;\">3.0</td><td style = \"text-align: right;\">193.66</td><td style = \"text-align: right;\">-33.4046</td><td style = \"text-align: right;\">-70.5904</td><td style = \"text-align: left;\">Empresa</td><td style = \"text-align: left;\">Persona</td><td style = \"text-align: left;\">T4</td><td style = \"text-align: right;\">18.8677</td><td style = \"text-align: right;\">15.1877</td><td style = \"text-align: left;\">2018-10-28</td><td style = \"text-align: right;\">64.3478</td></tr><tr><td class = \"rowNumber\" style = \"font-weight: bold; text-align: right;\">4</td><td style = \"text-align: right;\">4</td><td style = \"text-align: right;\">4</td><td style = \"text-align: right;\">14800</td><td style = \"text-align: right;\">230</td><td style = \"text-align: right;\">135</td><td style = \"text-align: right;\">1957</td><td style = \"text-align: right;\">54.3333</td><td style = \"text-align: right;\">6475.01</td><td style = \"text-align: right;\">28.1522</td><td style = \"text-align: left;\">parque_bicentenario</td><td style = \"text-align: right;\">3.0</td><td style = \"text-align: right;\">206.73</td><td style = \"text-align: right;\">-33.4046</td><td style = \"text-align: right;\">-70.5904</td><td style = \"text-align: left;\">Empresa</td><td style = \"text-align: left;\">Empresa</td><td style = \"text-align: left;\">T4</td><td style = \"text-align: right;\">18.8677</td><td style = \"text-align: right;\">15.1877</td><td style = \"text-align: left;\">2020-10-30</td><td style = \"text-align: right;\">64.3478</td></tr><tr><td class = \"rowNumber\" style = \"font-weight: bold; text-align: right;\">5</td><td style = \"text-align: right;\">5</td><td style = \"text-align: right;\">5</td><td style = \"text-align: right;\">19000</td><td style = \"text-align: right;\">416</td><td style = \"text-align: right;\">242</td><td style = \"text-align: right;\">1957</td><td style = \"text-align: right;\">39.7411</td><td style = \"text-align: right;\">13045.9</td><td style = \"text-align: right;\">31.3605</td><td style = \"text-align: left;\">parque_bicentenario</td><td style = \"text-align: right;\">1.86777</td><td style = \"text-align: right;\">163.823</td><td style = \"text-align: right;\">-33.4027</td><td style = \"text-align: right;\">-70.5891</td><td style = \"text-align: left;\">Persona</td><td style = \"text-align: left;\">Persona</td><td style = \"text-align: left;\">T3</td><td style = \"text-align: right;\">19.3633</td><td style = \"text-align: right;\">20.6557</td><td style = \"text-align: left;\">2016-08-26</td><td style = \"text-align: right;\">45.6731</td></tr><tr><td class = \"rowNumber\" style = \"font-weight: bold; text-align: right;\">6</td><td style = \"text-align: right;\">6</td><td style = \"text-align: right;\">6</td><td style = \"text-align: right;\">8326</td><td style = \"text-align: right;\">432</td><td style = \"text-align: right;\">130</td><td style = \"text-align: right;\">1958</td><td style = \"text-align: right;\">57.0</td><td style = \"text-align: right;\">10543.8</td><td style = \"text-align: right;\">24.407</td><td style = \"text-align: left;\">parque_bicentenario</td><td style = \"text-align: right;\">4.0</td><td style = \"text-align: right;\">163.714</td><td style = \"text-align: right;\">-33.4022</td><td style = \"text-align: right;\">-70.5892</td><td style = \"text-align: left;\">Persona</td><td style = \"text-align: left;\">Empresa</td><td style = \"text-align: left;\">T3</td><td style = \"text-align: right;\">19.3633</td><td style = \"text-align: right;\">8.38841</td><td style = \"text-align: left;\">2015-09-11</td><td style = \"text-align: right;\">19.2731</td></tr><tr><td class = \"rowNumber\" style = \"font-weight: bold; text-align: right;\">7</td><td style = \"text-align: right;\">7</td><td style = \"text-align: right;\">7</td><td style = \"text-align: right;\">24820</td><td style = \"text-align: right;\">270</td><td style = \"text-align: right;\">239</td><td style = \"text-align: right;\">1958</td><td style = \"text-align: right;\">56.3969</td><td style = \"text-align: right;\">8417.52</td><td style = \"text-align: right;\">31.176</td><td style = \"text-align: left;\">parque_bicentenario</td><td style = \"text-align: right;\">3.0</td><td style = \"text-align: right;\">204.937</td><td style = \"text-align: right;\">-33.4021</td><td style = \"text-align: right;\">-70.5892</td><td style = \"text-align: left;\">Empresa</td><td style = \"text-align: left;\">Persona</td><td style = \"text-align: left;\">T1</td><td style = \"text-align: right;\">19.3633</td><td style = \"text-align: right;\">15.0891</td><td style = \"text-align: left;\">2020-02-22</td><td style = \"text-align: right;\">91.9259</td></tr><tr><td class = \"rowNumber\" style = \"font-weight: bold; text-align: right;\">8</td><td style = \"text-align: right;\">8</td><td style = \"text-align: right;\">8</td><td style = \"text-align: right;\">11000</td><td style = \"text-align: right;\">731</td><td style = \"text-align: right;\">190</td><td style = \"text-align: right;\">1957</td><td style = \"text-align: right;\">62.0</td><td style = \"text-align: right;\">18246.7</td><td style = \"text-align: right;\">24.9612</td><td style = \"text-align: left;\">parque_bicentenario</td><td style = \"text-align: right;\">3.0</td><td style = \"text-align: right;\">203.461</td><td style = \"text-align: right;\">-33.4021</td><td style = \"text-align: right;\">-70.5889</td><td style = \"text-align: left;\">Empresa</td><td style = \"text-align: left;\">Persona</td><td style = \"text-align: left;\">T4</td><td style = \"text-align: right;\">19.3633</td><td style = \"text-align: right;\">15.1877</td><td style = \"text-align: left;\">2019-12-01</td><td style = \"text-align: right;\">15.0479</td></tr><tr><td class = \"rowNumber\" style = \"font-weight: bold; text-align: right;\">9</td><td style = \"text-align: right;\">9</td><td style = \"text-align: right;\">9</td><td style = \"text-align: right;\">25000</td><td style = \"text-align: right;\">731</td><td style = \"text-align: right;\">190</td><td style = \"text-align: right;\">1957</td><td style = \"text-align: right;\">62.0</td><td style = \"text-align: right;\">18246.7</td><td style = \"text-align: right;\">24.9612</td><td style = \"text-align: left;\">parque_bicentenario</td><td style = \"text-align: right;\">3.0</td><td style = \"text-align: right;\">203.461</td><td style = \"text-align: right;\">-33.4021</td><td style = \"text-align: right;\">-70.5889</td><td style = \"text-align: left;\">Empresa</td><td style = \"text-align: left;\">Persona</td><td style = \"text-align: left;\">T4</td><td style = \"text-align: right;\">19.3633</td><td style = \"text-align: right;\">15.1877</td><td style = \"text-align: left;\">2019-12-01</td><td style = \"text-align: right;\">34.1997</td></tr><tr><td class = \"rowNumber\" style = \"font-weight: bold; text-align: right;\">10</td><td style = \"text-align: right;\">10</td><td style = \"text-align: right;\">10</td><td style = \"text-align: right;\">18000</td><td style = \"text-align: right;\">269</td><td style = \"text-align: right;\">160</td><td style = \"text-align: right;\">1960</td><td style = \"text-align: right;\">59.0</td><td style = \"text-align: right;\">7511.82</td><td style = \"text-align: right;\">27.925</td><td style = \"text-align: left;\">parque_bicentenario</td><td style = \"text-align: right;\">3.0625</td><td style = \"text-align: right;\">203.461</td><td style = \"text-align: right;\">-33.4024</td><td style = \"text-align: right;\">-70.5892</td><td style = \"text-align: left;\">Persona</td><td style = \"text-align: left;\">Persona</td><td style = \"text-align: left;\">T4</td><td style = \"text-align: right;\">19.3633</td><td style = \"text-align: right;\">14.6646</td><td style = \"text-align: left;\">2019-11-07</td><td style = \"text-align: right;\">66.9145</td></tr><tr><td class = \"rowNumber\" style = \"font-weight: bold; text-align: right;\">11</td><td style = \"text-align: right;\">11</td><td style = \"text-align: right;\">11</td><td style = \"text-align: right;\">15500</td><td style = \"text-align: right;\">277</td><td style = \"text-align: right;\">176</td><td style = \"text-align: right;\">1962</td><td style = \"text-align: right;\">46.2727</td><td style = \"text-align: right;\">8376.66</td><td style = \"text-align: right;\">30.2406</td><td style = \"text-align: left;\">parque_bicentenario</td><td style = \"text-align: right;\">3.0</td><td style = \"text-align: right;\">175.239</td><td style = \"text-align: right;\">-33.4026</td><td style = \"text-align: right;\">-70.5883</td><td style = \"text-align: left;\">Empresa</td><td style = \"text-align: left;\">Persona</td><td style = \"text-align: left;\">T3</td><td style = \"text-align: right;\">19.3633</td><td style = \"text-align: right;\">15.1877</td><td style = \"text-align: left;\">2017-08-30</td><td style = \"text-align: right;\">55.9567</td></tr><tr><td class = \"rowNumber\" style = \"font-weight: bold; text-align: right;\">12</td><td style = \"text-align: right;\">12</td><td style = \"text-align: right;\">12</td><td style = \"text-align: right;\">22765</td><td style = \"text-align: right;\">416</td><td style = \"text-align: right;\">200</td><td style = \"text-align: right;\">1955</td><td style = \"text-align: right;\">61.0</td><td style = \"text-align: right;\">10866.3</td><td style = \"text-align: right;\">26.1209</td><td style = \"text-align: left;\">parque_bicentenario</td><td style = \"text-align: right;\">3.175</td><td style = \"text-align: right;\">163.823</td><td style = \"text-align: right;\">-33.401</td><td style = \"text-align: right;\">-70.5881</td><td style = \"text-align: left;\">Empresa</td><td style = \"text-align: left;\">Persona</td><td style = \"text-align: left;\">T3</td><td style = \"text-align: right;\">19.3633</td><td style = \"text-align: right;\">13.749</td><td style = \"text-align: left;\">2016-09-24</td><td style = \"text-align: right;\">54.7236</td></tr><tr><td class = \"rowNumber\" style = \"font-weight: bold; text-align: right;\">13</td><td style = \"text-align: right;\">13</td><td style = \"text-align: right;\">13</td><td style = \"text-align: right;\">14990</td><td style = \"text-align: right;\">261</td><td style = \"text-align: right;\">147</td><td style = \"text-align: right;\">1961</td><td style = \"text-align: right;\">60.0</td><td style = \"text-align: right;\">7341.41</td><td style = \"text-align: right;\">28.128</td><td style = \"text-align: left;\">parque_bicentenario</td><td style = \"text-align: right;\">3.0</td><td style = \"text-align: right;\">219.627</td><td style = \"text-align: right;\">-33.3999</td><td style = \"text-align: right;\">-70.5884</td><td style = \"text-align: left;\">Empresa</td><td style = \"text-align: left;\">Persona</td><td style = \"text-align: left;\">T2</td><td style = \"text-align: right;\">19.3633</td><td style = \"text-align: right;\">15.1877</td><td style = \"text-align: left;\">2021-06-18</td><td style = \"text-align: right;\">57.433</td></tr><tr><td style = \"text-align: right;\">&vellip;</td><td style = \"text-align: right;\">&vellip;</td><td style = \"text-align: right;\">&vellip;</td><td style = \"text-align: right;\">&vellip;</td><td style = \"text-align: right;\">&vellip;</td><td style = \"text-align: right;\">&vellip;</td><td style = \"text-align: right;\">&vellip;</td><td style = \"text-align: right;\">&vellip;</td><td style = \"text-align: right;\">&vellip;</td><td style = \"text-align: right;\">&vellip;</td><td style = \"text-align: right;\">&vellip;</td><td style = \"text-align: right;\">&vellip;</td><td style = \"text-align: right;\">&vellip;</td><td style = \"text-align: right;\">&vellip;</td><td style = \"text-align: right;\">&vellip;</td><td style = \"text-align: right;\">&vellip;</td><td style = \"text-align: right;\">&vellip;</td><td style = \"text-align: right;\">&vellip;</td><td style = \"text-align: right;\">&vellip;</td><td style = \"text-align: right;\">&vellip;</td><td style = \"text-align: right;\">&vellip;</td><td style = \"text-align: right;\">&vellip;</td></tr><tr><td class = \"rowNumber\" style = \"font-weight: bold; text-align: right;\">2510</td><td style = \"text-align: right;\">2517</td><td style = \"text-align: right;\">2517</td><td style = \"text-align: right;\">21000</td><td style = \"text-align: right;\">561</td><td style = \"text-align: right;\">202</td><td style = \"text-align: right;\">1970</td><td style = \"text-align: right;\">44.4554</td><td style = \"text-align: right;\">13947.3</td><td style = \"text-align: right;\">24.8614</td><td style = \"text-align: left;\">borde_rio_casa_piedra</td><td style = \"text-align: right;\">3.0</td><td style = \"text-align: right;\">184.771</td><td style = \"text-align: right;\">-33.3872</td><td style = \"text-align: right;\">-70.5843</td><td style = \"text-align: left;\">Persona</td><td style = \"text-align: left;\">Persona</td><td style = \"text-align: left;\">T2</td><td style = \"text-align: right;\">18.0955</td><td style = \"text-align: right;\">14.7728</td><td style = \"text-align: left;\">2018-04-11</td><td style = \"text-align: right;\">37.4332</td></tr><tr><td class = \"rowNumber\" style = \"font-weight: bold; text-align: right;\">2511</td><td style = \"text-align: right;\">2518</td><td style = \"text-align: right;\">2518</td><td style = \"text-align: right;\">25720</td><td style = \"text-align: right;\">968</td><td style = \"text-align: right;\">140</td><td style = \"text-align: right;\">1972</td><td style = \"text-align: right;\">42.0</td><td style = \"text-align: right;\">18740.4</td><td style = \"text-align: right;\">19.3599</td><td style = \"text-align: left;\">borde_rio_casa_piedra</td><td style = \"text-align: right;\">3.0</td><td style = \"text-align: right;\">153.291</td><td style = \"text-align: right;\">-33.3849</td><td style = \"text-align: right;\">-70.5853</td><td style = \"text-align: left;\">Persona</td><td style = \"text-align: left;\">Empresa</td><td style = \"text-align: left;\">T4</td><td style = \"text-align: right;\">18.0955</td><td style = \"text-align: right;\">15.1877</td><td style = \"text-align: left;\">2014-10-09</td><td style = \"text-align: right;\">26.5702</td></tr><tr><td class = \"rowNumber\" style = \"font-weight: bold; text-align: right;\">2512</td><td style = \"text-align: right;\">2519</td><td style = \"text-align: right;\">2519</td><td style = \"text-align: right;\">16650</td><td style = \"text-align: right;\">485</td><td style = \"text-align: right;\">108</td><td style = \"text-align: right;\">1972</td><td style = \"text-align: right;\">46.0</td><td style = \"text-align: right;\">11565.7</td><td style = \"text-align: right;\">23.8469</td><td style = \"text-align: left;\">borde_rio_casa_piedra</td><td style = \"text-align: right;\">3.0</td><td style = \"text-align: right;\">184.771</td><td style = \"text-align: right;\">-33.3844</td><td style = \"text-align: right;\">-70.5855</td><td style = \"text-align: left;\">Persona</td><td style = \"text-align: left;\">Persona</td><td style = \"text-align: left;\">T2</td><td style = \"text-align: right;\">18.0955</td><td style = \"text-align: right;\">15.1877</td><td style = \"text-align: left;\">2018-04-19</td><td style = \"text-align: right;\">34.3299</td></tr><tr><td class = \"rowNumber\" style = \"font-weight: bold; text-align: right;\">2513</td><td style = \"text-align: right;\">2520</td><td style = \"text-align: right;\">2520</td><td style = \"text-align: right;\">20000</td><td style = \"text-align: right;\">486</td><td style = \"text-align: right;\">232</td><td style = \"text-align: right;\">1971</td><td style = \"text-align: right;\">39.6407</td><td style = \"text-align: right;\">12796.7</td><td style = \"text-align: right;\">26.3307</td><td style = \"text-align: left;\">borde_rio_casa_piedra</td><td style = \"text-align: right;\">3.0</td><td style = \"text-align: right;\">170.517</td><td style = \"text-align: right;\">-33.3863</td><td style = \"text-align: right;\">-70.5837</td><td style = \"text-align: left;\">Empresa</td><td style = \"text-align: left;\">Persona</td><td style = \"text-align: left;\">T1</td><td style = \"text-align: right;\">18.0955</td><td style = \"text-align: right;\">14.7305</td><td style = \"text-align: left;\">2017-01-21</td><td style = \"text-align: right;\">41.1523</td></tr><tr><td class = \"rowNumber\" style = \"font-weight: bold; text-align: right;\">2514</td><td style = \"text-align: right;\">2521</td><td style = \"text-align: right;\">2521</td><td style = \"text-align: right;\">15100</td><td style = \"text-align: right;\">350</td><td style = \"text-align: right;\">134</td><td style = \"text-align: right;\">1971</td><td style = \"text-align: right;\">44.0</td><td style = \"text-align: right;\">9150.8</td><td style = \"text-align: right;\">26.1451</td><td style = \"text-align: left;\">borde_rio_casa_piedra</td><td style = \"text-align: right;\">3.0</td><td style = \"text-align: right;\">163.714</td><td style = \"text-align: right;\">-33.3864</td><td style = \"text-align: right;\">-70.5835</td><td style = \"text-align: left;\">Persona</td><td style = \"text-align: left;\">Persona</td><td style = \"text-align: left;\">T3</td><td style = \"text-align: right;\">18.0955</td><td style = \"text-align: right;\">15.1877</td><td style = \"text-align: left;\">2015-09-04</td><td style = \"text-align: right;\">43.1429</td></tr><tr><td class = \"rowNumber\" style = \"font-weight: bold; text-align: right;\">2515</td><td style = \"text-align: right;\">2522</td><td style = \"text-align: right;\">2522</td><td style = \"text-align: right;\">12910</td><td style = \"text-align: right;\">732</td><td style = \"text-align: right;\">314</td><td style = \"text-align: right;\">1970</td><td style = \"text-align: right;\">43.8772</td><td style = \"text-align: right;\">18242.7</td><td style = \"text-align: right;\">24.9217</td><td style = \"text-align: left;\">jardin_del_este</td><td style = \"text-align: right;\">3.0</td><td style = \"text-align: right;\">170.517</td><td style = \"text-align: right;\">-33.3903</td><td style = \"text-align: right;\">-70.5859</td><td style = \"text-align: left;\">Persona</td><td style = \"text-align: left;\">Persona</td><td style = \"text-align: left;\">T1</td><td style = \"text-align: right;\">18.0955</td><td style = \"text-align: right;\">15.0459</td><td style = \"text-align: left;\">2017-01-22</td><td style = \"text-align: right;\">17.6366</td></tr><tr><td class = \"rowNumber\" style = \"font-weight: bold; text-align: right;\">2516</td><td style = \"text-align: right;\">2523</td><td style = \"text-align: right;\">2523</td><td style = \"text-align: right;\">14000</td><td style = \"text-align: right;\">315</td><td style = \"text-align: right;\">139</td><td style = \"text-align: right;\">1970</td><td style = \"text-align: right;\">45.0</td><td style = \"text-align: right;\">8213.55</td><td style = \"text-align: right;\">26.0748</td><td style = \"text-align: left;\">jardin_del_este</td><td style = \"text-align: right;\">3.0</td><td style = \"text-align: right;\">157.865</td><td style = \"text-align: right;\">-33.3904</td><td style = \"text-align: right;\">-70.586</td><td style = \"text-align: left;\">Persona</td><td style = \"text-align: left;\">Empresa</td><td style = \"text-align: left;\">T2</td><td style = \"text-align: right;\">18.0955</td><td style = \"text-align: right;\">15.1877</td><td style = \"text-align: left;\">2015-04-01</td><td style = \"text-align: right;\">44.4444</td></tr><tr><td class = \"rowNumber\" style = \"font-weight: bold; text-align: right;\">2517</td><td style = \"text-align: right;\">2524</td><td style = \"text-align: right;\">2524</td><td style = \"text-align: right;\">19000</td><td style = \"text-align: right;\">315</td><td style = \"text-align: right;\">139</td><td style = \"text-align: right;\">1970</td><td style = \"text-align: right;\">51.0</td><td style = \"text-align: right;\">8213.55</td><td style = \"text-align: right;\">26.0748</td><td style = \"text-align: left;\">jardin_del_este</td><td style = \"text-align: right;\">3.0</td><td style = \"text-align: right;\">219.627</td><td style = \"text-align: right;\">-33.3904</td><td style = \"text-align: right;\">-70.586</td><td style = \"text-align: left;\">Persona</td><td style = \"text-align: left;\">Persona</td><td style = \"text-align: left;\">T2</td><td style = \"text-align: right;\">18.0955</td><td style = \"text-align: right;\">15.1877</td><td style = \"text-align: left;\">2021-04-15</td><td style = \"text-align: right;\">60.3175</td></tr><tr><td class = \"rowNumber\" style = \"font-weight: bold; text-align: right;\">2518</td><td style = \"text-align: right;\">2525</td><td style = \"text-align: right;\">2525</td><td style = \"text-align: right;\">13900</td><td style = \"text-align: right;\">322</td><td style = \"text-align: right;\">107</td><td style = \"text-align: right;\">1969</td><td style = \"text-align: right;\">46.0</td><td style = \"text-align: right;\">8012.81</td><td style = \"text-align: right;\">24.8845</td><td style = \"text-align: left;\">jardin_del_este</td><td style = \"text-align: right;\">3.0</td><td style = \"text-align: right;\">167.043</td><td style = \"text-align: right;\">-33.3903</td><td style = \"text-align: right;\">-70.5862</td><td style = \"text-align: left;\">Persona</td><td style = \"text-align: left;\">Persona</td><td style = \"text-align: left;\">T4</td><td style = \"text-align: right;\">18.0955</td><td style = \"text-align: right;\">15.1877</td><td style = \"text-align: left;\">2015-11-26</td><td style = \"text-align: right;\">43.1677</td></tr><tr><td class = \"rowNumber\" style = \"font-weight: bold; text-align: right;\">2519</td><td style = \"text-align: right;\">2526</td><td style = \"text-align: right;\">2526</td><td style = \"text-align: right;\">21039</td><td style = \"text-align: right;\">472</td><td style = \"text-align: right;\">198</td><td style = \"text-align: right;\">1970</td><td style = \"text-align: right;\">45.0</td><td style = \"text-align: right;\">11743.7</td><td style = \"text-align: right;\">24.8807</td><td style = \"text-align: left;\">jardin_del_este</td><td style = \"text-align: right;\">3.0</td><td style = \"text-align: right;\">153.985</td><td style = \"text-align: right;\">-33.3902</td><td style = \"text-align: right;\">-70.5863</td><td style = \"text-align: left;\">Persona</td><td style = \"text-align: left;\">Persona</td><td style = \"text-align: left;\">T1</td><td style = \"text-align: right;\">18.0955</td><td style = \"text-align: right;\">14.7908</td><td style = \"text-align: left;\">2015-01-16</td><td style = \"text-align: right;\">44.5742</td></tr><tr><td class = \"rowNumber\" style = \"font-weight: bold; text-align: right;\">2520</td><td style = \"text-align: right;\">2527</td><td style = \"text-align: right;\">2527</td><td style = \"text-align: right;\">14000</td><td style = \"text-align: right;\">298</td><td style = \"text-align: right;\">151</td><td style = \"text-align: right;\">1970</td><td style = \"text-align: right;\">42.9032</td><td style = \"text-align: right;\">7936.53</td><td style = \"text-align: right;\">26.6327</td><td style = \"text-align: left;\">jardin_del_este</td><td style = \"text-align: right;\">3.0</td><td style = \"text-align: right;\">141.696</td><td style = \"text-align: right;\">-33.39</td><td style = \"text-align: right;\">-70.5857</td><td style = \"text-align: left;\">Empresa</td><td style = \"text-align: left;\">Persona</td><td style = \"text-align: left;\">T1</td><td style = \"text-align: right;\">18.0955</td><td style = \"text-align: right;\">15.0837</td><td style = \"text-align: left;\">2014-03-23</td><td style = \"text-align: right;\">46.9799</td></tr><tr><td class = \"rowNumber\" style = \"font-weight: bold; text-align: right;\">2521</td><td style = \"text-align: right;\">2528</td><td style = \"text-align: right;\">2528</td><td style = \"text-align: right;\">14200</td><td style = \"text-align: right;\">298</td><td style = \"text-align: right;\">151</td><td style = \"text-align: right;\">1970</td><td style = \"text-align: right;\">46.9032</td><td style = \"text-align: right;\">7936.53</td><td style = \"text-align: right;\">26.6327</td><td style = \"text-align: left;\">jardin_del_este</td><td style = \"text-align: right;\">3.0</td><td style = \"text-align: right;\">184.771</td><td style = \"text-align: right;\">-33.39</td><td style = \"text-align: right;\">-70.5857</td><td style = \"text-align: left;\">Persona</td><td style = \"text-align: left;\">Empresa</td><td style = \"text-align: left;\">T2</td><td style = \"text-align: right;\">18.0955</td><td style = \"text-align: right;\">15.0837</td><td style = \"text-align: left;\">2018-04-13</td><td style = \"text-align: right;\">47.651</td></tr></tbody></table></div>"
      ],
      "text/latex": [
       "\\begin{tabular}{r|ccccccc}\n",
       "\t& Column1 & X & Precio & Superficie\\_Terreno & Superficie\\_Habitacional & Agno\\_Construccion & \\\\\n",
       "\t\\hline\n",
       "\t& Int64 & Int64 & Int64 & Int64 & Int64 & Int64 & \\\\\n",
       "\t\\hline\n",
       "\t1 & 1 & 1 & 8400 & 180 & 88 & 1953 & $\\dots$ \\\\\n",
       "\t2 & 2 & 2 & 27300 & 300 & 114 & 1953 & $\\dots$ \\\\\n",
       "\t3 & 3 & 3 & 14800 & 230 & 135 & 1957 & $\\dots$ \\\\\n",
       "\t4 & 4 & 4 & 14800 & 230 & 135 & 1957 & $\\dots$ \\\\\n",
       "\t5 & 5 & 5 & 19000 & 416 & 242 & 1957 & $\\dots$ \\\\\n",
       "\t6 & 6 & 6 & 8326 & 432 & 130 & 1958 & $\\dots$ \\\\\n",
       "\t7 & 7 & 7 & 24820 & 270 & 239 & 1958 & $\\dots$ \\\\\n",
       "\t8 & 8 & 8 & 11000 & 731 & 190 & 1957 & $\\dots$ \\\\\n",
       "\t9 & 9 & 9 & 25000 & 731 & 190 & 1957 & $\\dots$ \\\\\n",
       "\t10 & 10 & 10 & 18000 & 269 & 160 & 1960 & $\\dots$ \\\\\n",
       "\t11 & 11 & 11 & 15500 & 277 & 176 & 1962 & $\\dots$ \\\\\n",
       "\t12 & 12 & 12 & 22765 & 416 & 200 & 1955 & $\\dots$ \\\\\n",
       "\t13 & 13 & 13 & 14990 & 261 & 147 & 1961 & $\\dots$ \\\\\n",
       "\t14 & 14 & 14 & 22500 & 468 & 166 & 1960 & $\\dots$ \\\\\n",
       "\t15 & 15 & 15 & 21250 & 468 & 166 & 1960 & $\\dots$ \\\\\n",
       "\t16 & 16 & 16 & 18500 & 457 & 155 & 1963 & $\\dots$ \\\\\n",
       "\t17 & 17 & 17 & 20448 & 457 & 155 & 1963 & $\\dots$ \\\\\n",
       "\t18 & 18 & 18 & 11757 & 428 & 291 & 1953 & $\\dots$ \\\\\n",
       "\t19 & 19 & 19 & 15400 & 418 & 200 & 1963 & $\\dots$ \\\\\n",
       "\t20 & 20 & 20 & 25000 & 416 & 255 & 1960 & $\\dots$ \\\\\n",
       "\t21 & 21 & 21 & 10145 & 169 & 138 & 1957 & $\\dots$ \\\\\n",
       "\t22 & 22 & 22 & 17493 & 169 & 138 & 1957 & $\\dots$ \\\\\n",
       "\t23 & 23 & 23 & 12500 & 169 & 132 & 1957 & $\\dots$ \\\\\n",
       "\t24 & 24 & 24 & 16500 & 207 & 138 & 1955 & $\\dots$ \\\\\n",
       "\t$\\dots$ & $\\dots$ & $\\dots$ & $\\dots$ & $\\dots$ & $\\dots$ & $\\dots$ &  \\\\\n",
       "\\end{tabular}\n"
      ],
      "text/plain": [
       "\u001b[1m2521×21 DataFrame\u001b[0m\n",
       "\u001b[1m  Row \u001b[0m│\u001b[1m Column1 \u001b[0m\u001b[1m X     \u001b[0m\u001b[1m Precio \u001b[0m\u001b[1m Superficie_Terreno \u001b[0m\u001b[1m Superficie_Habitacional \u001b[0m\u001b[1m A\u001b[0m ⋯\n",
       "      │\u001b[90m Int64   \u001b[0m\u001b[90m Int64 \u001b[0m\u001b[90m Int64  \u001b[0m\u001b[90m Int64              \u001b[0m\u001b[90m Int64                   \u001b[0m\u001b[90m I\u001b[0m ⋯\n",
       "──────┼─────────────────────────────────────────────────────────────────────────\n",
       "    1 │       1      1    8400                 180                       88    ⋯\n",
       "    2 │       2      2   27300                 300                      114\n",
       "    3 │       3      3   14800                 230                      135\n",
       "    4 │       4      4   14800                 230                      135\n",
       "    5 │       5      5   19000                 416                      242    ⋯\n",
       "    6 │       6      6    8326                 432                      130\n",
       "    7 │       7      7   24820                 270                      239\n",
       "    8 │       8      8   11000                 731                      190\n",
       "  ⋮   │    ⋮       ⋮      ⋮             ⋮                      ⋮               ⋱\n",
       " 2515 │    2522   2522   12910                 732                      314    ⋯\n",
       " 2516 │    2523   2523   14000                 315                      139\n",
       " 2517 │    2524   2524   19000                 315                      139\n",
       " 2518 │    2525   2525   13900                 322                      107\n",
       " 2519 │    2526   2526   21039                 472                      198    ⋯\n",
       " 2520 │    2527   2527   14000                 298                      151\n",
       " 2521 │    2528   2528   14200                 298                      151\n",
       "\u001b[36m                                                16 columns and 2506 rows omitted\u001b[0m"
      ]
     },
     "metadata": {},
     "output_type": "display_data"
    }
   ],
   "source": [
    "data = CSV.File(\"data.csv\") |> DataFrame"
   ]
  },
  {
   "cell_type": "markdown",
   "metadata": {},
   "source": [
    "Se agrega columna Proporcion a data_brut y se filtran los datos para los cuales el Precio es menor al Avaluo_Fiscal"
   ]
  },
  {
   "cell_type": "code",
   "execution_count": 8,
   "metadata": {},
   "outputs": [],
   "source": [
    "data.Proporcion = data.Precio ./ data.Avaluo_Fiscal;\n",
    "data = filter(row -> row.Proporcion >= 1, data);"
   ]
  },
  {
   "cell_type": "markdown",
   "metadata": {},
   "source": [
    "Se agregan columnas adicionales necesarias para ajustar modelo predictivo "
   ]
  },
  {
   "cell_type": "code",
   "execution_count": 10,
   "metadata": {},
   "outputs": [],
   "source": [
    "data.log_Precio = log.(data.Precio);\n",
    "data.raiz_Superficie_Terreno = sqrt.(data.Superficie_Terreno);\n",
    "data.raiz_Superficie_Habitacional = sqrt.(data.Superficie_Habitacional);\n",
    "data.log_Avaluo_Fiscal = log.(data.Avaluo_Fiscal);\n",
    "data.log_Avaluo_Fiscal_Unitario = log.(data.Avaluo_Fiscal_Unitario);\n",
    "data.log_Valor_Unitario_Terreno = log.(data.Valor_Unitario_Terreno);\n",
    "data.log_Valor_Unit_Const_Hab = log.(data.Valor_Unitario_Construccion_Habitacional_Promedio);\n"
   ]
  },
  {
   "cell_type": "markdown",
   "metadata": {},
   "source": [
    "Se establecen las features que se utilizarán en el modelo predictivo"
   ]
  },
  {
   "cell_type": "code",
   "execution_count": 11,
   "metadata": {},
   "outputs": [
    {
     "data": {
      "text/plain": [
       "17-element Vector{String}:\n",
       " \"log_Precio\"\n",
       " \"raiz_Superficie_Terreno\"\n",
       " \"raiz_Superficie_Habitacional\"\n",
       " \"Agno_Construccion\"\n",
       " \"Antiguedad_Promedio\"\n",
       " \"log_Avaluo_Fiscal\"\n",
       " \"log_Avaluo_Fiscal_Unitario\"\n",
       " \"Barrio\"\n",
       " \"Calidad_Habitacional\"\n",
       " \"IPV_General\"\n",
       " \"Latitud\"\n",
       " \"Longitud\"\n",
       " \"Tipo_Comprador_Simple\"\n",
       " \"Tipo_Vendedor_Simple\"\n",
       " \"Trimestre\"\n",
       " \"log_Valor_Unitario_Terreno\"\n",
       " \"log_Valor_Unit_Const_Hab\""
      ]
     },
     "metadata": {},
     "output_type": "display_data"
    }
   ],
   "source": [
    "features = [\n",
    "    :log_Precio,\n",
    "    :raiz_Superficie_Terreno,\n",
    "    :raiz_Superficie_Habitacional,\n",
    "    :Agno_Construccion,\n",
    "    :Antiguedad_Promedio,\n",
    "    :log_Avaluo_Fiscal,\n",
    "    :log_Avaluo_Fiscal_Unitario,\n",
    "    :Barrio,\n",
    "    :Calidad_Habitacional,\n",
    "    :IPV_General,\n",
    "    :Latitud,\n",
    "    :Longitud,\n",
    "    :Tipo_Comprador_Simple,\n",
    "    :Tipo_Vendedor_Simple,\n",
    "    :Trimestre,\n",
    "    :log_Valor_Unitario_Terreno,\n",
    "    :log_Valor_Unit_Const_Hab\n",
    "]\n",
    "data = data[:, features]\n",
    "names(data)"
   ]
  },
  {
   "cell_type": "markdown",
   "metadata": {},
   "source": [
    "Se ajustan los tipos de de algunas features "
   ]
  },
  {
   "cell_type": "code",
   "execution_count": 13,
   "metadata": {},
   "outputs": [],
   "source": [
    "coerce!(data, :Precio => Continuous, :Superficie_Terreno => Continuous, :Superficie_Habitacional => Continuous);\n",
    "coerce!(data, :Barrio => Multiclass, :Tipo_Comprador_Simple => Multiclass, :Tipo_Vendedor_Simple => Multiclass, :Trimestre => Multiclass);"
   ]
  },
  {
   "cell_type": "markdown",
   "metadata": {},
   "source": [
    "Se modifican las variables Multiclass por oneHot"
   ]
  },
  {
   "cell_type": "code",
   "execution_count": 17,
   "metadata": {},
   "outputs": [
    {
     "name": "stderr",
     "output_type": "stream",
     "text": [
      "┌ Info: Training machine(OneHotEncoder(features = Symbol[], …), …).\n",
      "└ @ MLJBase C:\\Users\\rjvia\\.julia\\packages\\MLJBase\\fEiP2\\src\\machines.jl:492\n",
      "┌ Info: Spawning 11 sub-features to one-hot encode feature :Barrio.\n",
      "└ @ MLJModels C:\\Users\\rjvia\\.julia\\packages\\MLJModels\\L1gIK\\src\\builtins\\Transformers.jl:878\n",
      "┌ Info: Spawning 2 sub-features to one-hot encode feature :Tipo_Comprador_Simple.\n",
      "└ @ MLJModels C:\\Users\\rjvia\\.julia\\packages\\MLJModels\\L1gIK\\src\\builtins\\Transformers.jl:878\n",
      "┌ Info: Spawning 2 sub-features to one-hot encode feature :Tipo_Vendedor_Simple.\n",
      "└ @ MLJModels C:\\Users\\rjvia\\.julia\\packages\\MLJModels\\L1gIK\\src\\builtins\\Transformers.jl:878\n",
      "┌ Info: Spawning 4 sub-features to one-hot encode feature :Trimestre.\n",
      "└ @ MLJModels C:\\Users\\rjvia\\.julia\\packages\\MLJModels\\L1gIK\\src\\builtins\\Transformers.jl:878\n"
     ]
    }
   ],
   "source": [
    "hot = OneHotEncoder(drop_last=false);\n",
    "mach = MLJ.fit!(machine(hot, data));\n",
    "data_oneHot = MLJ.transform(mach, data);"
   ]
  },
  {
   "cell_type": "markdown",
   "metadata": {},
   "source": [
    "Se separan los datos en y, X y luego se particionan en train (80%) y test (20%)"
   ]
  },
  {
   "cell_type": "code",
   "execution_count": 16,
   "metadata": {},
   "outputs": [
    {
     "data": {
      "text/plain": [
       "([1394, 1398, 922, 294, 1509, 1099, 249, 88, 1146, 2334  …  250, 2295, 98, 1502, 2362, 1052, 62, 1364, 749, 1605], [1390, 743, 604, 1287, 547, 445, 2319, 630, 2021, 970  …  1679, 1040, 2113, 485, 2284, 1668, 2358, 66, 7, 997])"
      ]
     },
     "metadata": {},
     "output_type": "display_data"
    }
   ],
   "source": [
    "y, X = unpack(data_oneHot, ==(:log_Precio))\n",
    "pos_train, pos_test = partition(collect(eachindex(y)), 0.8, shuffle=true, rng=5)"
   ]
  }
 ],
 "metadata": {
  "kernelspec": {
   "display_name": "Julia 1.9.3",
   "language": "julia",
   "name": "julia-1.9"
  },
  "language_info": {
   "file_extension": ".jl",
   "mimetype": "application/julia",
   "name": "julia",
   "version": "1.9.3"
  }
 },
 "nbformat": 4,
 "nbformat_minor": 2
}
